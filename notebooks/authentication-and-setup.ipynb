{
 "cells": [
  {
   "cell_type": "code",
   "execution_count": 1,
   "id": "677f6b79",
   "metadata": {},
   "outputs": [
    {
     "data": {
      "text/plain": [
       "True"
      ]
     },
     "execution_count": 1,
     "metadata": {},
     "output_type": "execute_result"
    }
   ],
   "source": [
    "## IMPORT LIBRARIES\n",
    "\n",
    "import tweepy\n",
    "import os\n",
    "from dotenv import load_dotenv\n",
    "load_dotenv()"
   ]
  },
  {
   "cell_type": "code",
   "execution_count": 2,
   "id": "51930e06",
   "metadata": {},
   "outputs": [],
   "source": [
    "## SETUP API ACCESS\n",
    "consumer_key = os.environ.get('API_KEY')\n",
    "consumer_secret = os.environ.get('API_SECRET')\n",
    "access_token = os.environ.get('ACCESS_TOKEN')\n",
    "access_token_secret = os.environ.get('ACCESS_TOKEN_SECRET')\n",
    "\n",
    "auth = tweepy.OAuthHandler(consumer_key, consumer_secret)\n",
    "auth.set_access_token(access_token, access_token_secret)\n",
    "api = tweepy.API(auth)"
   ]
  },
  {
   "cell_type": "code",
   "execution_count": 16,
   "id": "2134be9b",
   "metadata": {},
   "outputs": [
    {
     "name": "stderr",
     "output_type": "stream",
     "text": [
      "Unexpected parameter: id\n"
     ]
    },
    {
     "name": "stdout",
     "output_type": "stream",
     "text": [
      "RT @cdixon: @troy_mcartor @balajis No. I’d go direct.\n",
      "Btw, on the specifics, @TheStalwart &amp; @tracyalloway are actually fairly reasonable as corporate journalists go. Odd Lots is not bad on web3...for the establishment :)\n",
      "\n",
      "But it's still the establishment. So we should prioritize diverse influencers &amp; decentralized protocols instead.\n",
      "One part of it is unplugging from the establishment.\n",
      "\n",
      "But another part is building something better. Replacing corporate truth with cryptographic truth, and obviating the inherited \"paper of record\" through the distributed ledger of record.\n",
      "https://t.co/CYRn71Rxug\n",
      "The basic reason not to interview with them is that doing so legitimates them, endorses them, grants them control — when we need to be decentralizing power away from US media corporations and towards the people of the world with every word and every deed.\n",
      "https://t.co/OKL5PmrHG9\n",
      "Apple didn't need BlackBerry\n",
      "Netflix didn't need Blockbuster\n",
      "Amazon didn't need Barnes &amp; Noble\n",
      "\n",
      "And we don't need legacy banks or media corporations. Though we do need to replace them! https://t.co/OKL5PmrHG9\n",
      "RT @cdixon: As @balajis says, this is why you should never fall into the trap of interviewing with them. \n",
      "\n",
      "They show their true colors in “…\n",
      "In about 10 minutes, I'm talking with Antonio and the authors of two books.\n",
      "\n",
      "1) Bad News, by @bungarsargon\n",
      "https://t.co/TycPqFlze0\n",
      "\n",
      "2) The Gray Lady Winked, by @AshleyRindsberg \n",
      "https://t.co/4Cq2Azayo1\n",
      "\n",
      "Here's the link:\n",
      "https://t.co/DKOw3t5k5l https://t.co/99Q57fLxX6\n",
      "@cdixon The most novel work they are doing is all their AI stuff, the Deepmind acquisition and Google Brain and the like. But papers and even world-class technologies like AlphaGo are not products per se.\n",
      "@calcsam Decentralized social networks and cryptocredentials / on-chain resumes may make it possible to take another crack at this.\n",
      "There’s a continuum between individual-level prescriptive &amp; cohort-level descriptive analyses. Just knowing what actions correlated with life improvement for folks with similar starting conditions may be helpful. A personalized version of @tferriss’s book. https://t.co/a8jvTTC5dI\n"
     ]
    }
   ],
   "source": [
    "## TEST WITH BALAJIS TIMELINE\n",
    "cursor = tweepy.Cursor(api.user_timeline, id='balajis', tweet_mode='extended').items(10)\n",
    "for i in cursor:\n",
    "    print(i.full_text)"
   ]
  },
  {
   "cell_type": "code",
   "execution_count": null,
   "id": "f7c1fc80",
   "metadata": {},
   "outputs": [],
   "source": []
  }
 ],
 "metadata": {
  "kernelspec": {
   "display_name": "Python 3 (ipykernel)",
   "language": "python",
   "name": "python3"
  },
  "language_info": {
   "codemirror_mode": {
    "name": "ipython",
    "version": 3
   },
   "file_extension": ".py",
   "mimetype": "text/x-python",
   "name": "python",
   "nbconvert_exporter": "python",
   "pygments_lexer": "ipython3",
   "version": "3.8.8"
  }
 },
 "nbformat": 4,
 "nbformat_minor": 5
}

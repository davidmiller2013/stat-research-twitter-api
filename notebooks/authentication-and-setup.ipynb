{
 "cells": [
  {
   "cell_type": "code",
   "execution_count": 1,
   "id": "677f6b79",
   "metadata": {},
   "outputs": [
    {
     "data": {
      "text/plain": [
       "True"
      ]
     },
     "execution_count": 1,
     "metadata": {},
     "output_type": "execute_result"
    }
   ],
   "source": [
    "## IMPORT LIBRARIES\n",
    "\n",
    "import tweepy\n",
    "import os\n",
    "from dotenv import load_dotenv\n",
    "load_dotenv()"
   ]
  },
  {
   "cell_type": "code",
   "execution_count": 12,
   "id": "51930e06",
   "metadata": {},
   "outputs": [],
   "source": [
    "## SETUP API ACCESS\n",
    "consumer_key = os.environ.get('API_KEY')\n",
    "consumer_secret = os.environ.get('API_SECRET')\n",
    "access_token = os.environ.get('ACCESS_TOKEN')\n",
    "access_token_secret = os.environ.get('ACCESS_TOKEN_SECRET')\n",
    "bearer_token = os.environ.get('BEARER_TOKEN')"
   ]
  },
  {
   "cell_type": "code",
   "execution_count": 13,
   "id": "d0dbb8d6",
   "metadata": {},
   "outputs": [
    {
     "name": "stdout",
     "output_type": "stream",
     "text": [
      "cMUzihYJ8zlU3n1JLTbS5TLuv\n",
      "3WZ8QcSHUr2URBf8rjYkZ9A2BQcUh0LQd3uKcK3q3oqs41uJmk\n",
      "931276288282824705-n5qYgb6xN0RSCzW651YS0YEwfzXuVSe\n",
      "G362LsB9ixaNHNNrEtXrE0tiO6M2QPgJuK7CMQcNYh6fM\n",
      "AAAAAAAAAAAAAAAAAAAAAO16WgEAAAAABdRV3WmQimO2tjlFBv7m90Cs%2Ffs%3DJJf2cE9axbFQL1H65uPVFQCDw3nSTv7LKxc8GoPpilBd2YMVYs\n"
     ]
    }
   ],
   "source": [
    "print(consumer_key)\n",
    "print(consumer_secret)\n",
    "print(access_token)\n",
    "print(access_token_secret)\n",
    "print(bearer_token)"
   ]
  },
  {
   "cell_type": "code",
   "execution_count": 16,
   "id": "5ba1921b",
   "metadata": {},
   "outputs": [
    {
     "ename": "Unauthorized",
     "evalue": "401 Unauthorized",
     "output_type": "error",
     "traceback": [
      "\u001b[0;31m---------------------------------------------------------------------------\u001b[0m",
      "\u001b[0;31mUnauthorized\u001b[0m                              Traceback (most recent call last)",
      "\u001b[0;32m/var/folders/y7/dvfckgnx3z38k75w9h5_1tdw0000gn/T/ipykernel_77708/3586054652.py\u001b[0m in \u001b[0;36m<module>\u001b[0;34m\u001b[0m\n\u001b[1;32m      2\u001b[0m \u001b[0mauth\u001b[0m\u001b[0;34m.\u001b[0m\u001b[0mset_access_token\u001b[0m\u001b[0;34m(\u001b[0m\u001b[0maccess_token\u001b[0m\u001b[0;34m,\u001b[0m \u001b[0maccess_token_secret\u001b[0m\u001b[0;34m)\u001b[0m\u001b[0;34m\u001b[0m\u001b[0;34m\u001b[0m\u001b[0m\n\u001b[1;32m      3\u001b[0m \u001b[0mapi\u001b[0m \u001b[0;34m=\u001b[0m \u001b[0mtweepy\u001b[0m\u001b[0;34m.\u001b[0m\u001b[0mAPI\u001b[0m\u001b[0;34m(\u001b[0m\u001b[0mauth\u001b[0m\u001b[0;34m)\u001b[0m\u001b[0;34m\u001b[0m\u001b[0;34m\u001b[0m\u001b[0m\n\u001b[0;32m----> 4\u001b[0;31m \u001b[0mapi\u001b[0m\u001b[0;34m.\u001b[0m\u001b[0mupdate_status\u001b[0m\u001b[0;34m(\u001b[0m\u001b[0;34m'tweepy + oauth!'\u001b[0m\u001b[0;34m)\u001b[0m\u001b[0;34m\u001b[0m\u001b[0;34m\u001b[0m\u001b[0m\n\u001b[0m",
      "\u001b[0;32m~/opt/anaconda3/lib/python3.8/site-packages/tweepy/api.py\u001b[0m in \u001b[0;36mwrapper\u001b[0;34m(*args, **kwargs)\u001b[0m\n\u001b[1;32m     44\u001b[0m             \u001b[0mkwargs\u001b[0m\u001b[0;34m[\u001b[0m\u001b[0;34m'payload_list'\u001b[0m\u001b[0;34m]\u001b[0m \u001b[0;34m=\u001b[0m \u001b[0mpayload_list\u001b[0m\u001b[0;34m\u001b[0m\u001b[0;34m\u001b[0m\u001b[0m\n\u001b[1;32m     45\u001b[0m             \u001b[0mkwargs\u001b[0m\u001b[0;34m[\u001b[0m\u001b[0;34m'payload_type'\u001b[0m\u001b[0;34m]\u001b[0m \u001b[0;34m=\u001b[0m \u001b[0mpayload_type\u001b[0m\u001b[0;34m\u001b[0m\u001b[0;34m\u001b[0m\u001b[0m\n\u001b[0;32m---> 46\u001b[0;31m             \u001b[0;32mreturn\u001b[0m \u001b[0mmethod\u001b[0m\u001b[0;34m(\u001b[0m\u001b[0;34m*\u001b[0m\u001b[0margs\u001b[0m\u001b[0;34m,\u001b[0m \u001b[0;34m**\u001b[0m\u001b[0mkwargs\u001b[0m\u001b[0;34m)\u001b[0m\u001b[0;34m\u001b[0m\u001b[0;34m\u001b[0m\u001b[0m\n\u001b[0m\u001b[1;32m     47\u001b[0m         \u001b[0mwrapper\u001b[0m\u001b[0;34m.\u001b[0m\u001b[0mpayload_list\u001b[0m \u001b[0;34m=\u001b[0m \u001b[0mpayload_list\u001b[0m\u001b[0;34m\u001b[0m\u001b[0;34m\u001b[0m\u001b[0m\n\u001b[1;32m     48\u001b[0m         \u001b[0mwrapper\u001b[0m\u001b[0;34m.\u001b[0m\u001b[0mpayload_type\u001b[0m \u001b[0;34m=\u001b[0m \u001b[0mpayload_type\u001b[0m\u001b[0;34m\u001b[0m\u001b[0;34m\u001b[0m\u001b[0m\n",
      "\u001b[0;32m~/opt/anaconda3/lib/python3.8/site-packages/tweepy/api.py\u001b[0m in \u001b[0;36mupdate_status\u001b[0;34m(self, status, **kwargs)\u001b[0m\n\u001b[1;32m   1119\u001b[0m             \u001b[0mkwargs\u001b[0m\u001b[0;34m[\u001b[0m\u001b[0;34m'media_ids'\u001b[0m\u001b[0;34m]\u001b[0m \u001b[0;34m=\u001b[0m \u001b[0mlist_to_csv\u001b[0m\u001b[0;34m(\u001b[0m\u001b[0mkwargs\u001b[0m\u001b[0;34m[\u001b[0m\u001b[0;34m'media_ids'\u001b[0m\u001b[0;34m]\u001b[0m\u001b[0;34m)\u001b[0m\u001b[0;34m\u001b[0m\u001b[0;34m\u001b[0m\u001b[0m\n\u001b[1;32m   1120\u001b[0m \u001b[0;34m\u001b[0m\u001b[0m\n\u001b[0;32m-> 1121\u001b[0;31m         return self.request(\n\u001b[0m\u001b[1;32m   1122\u001b[0m             'POST', 'statuses/update', endpoint_parameters=(\n\u001b[1;32m   1123\u001b[0m                 \u001b[0;34m'status'\u001b[0m\u001b[0;34m,\u001b[0m \u001b[0;34m'in_reply_to_status_id'\u001b[0m\u001b[0;34m,\u001b[0m\u001b[0;34m\u001b[0m\u001b[0;34m\u001b[0m\u001b[0m\n",
      "\u001b[0;32m~/opt/anaconda3/lib/python3.8/site-packages/tweepy/api.py\u001b[0m in \u001b[0;36mrequest\u001b[0;34m(self, method, endpoint, endpoint_parameters, params, headers, json_payload, parser, payload_list, payload_type, post_data, files, require_auth, return_cursors, upload_api, use_cache, **kwargs)\u001b[0m\n\u001b[1;32m    255\u001b[0m                 \u001b[0;32mraise\u001b[0m \u001b[0mBadRequest\u001b[0m\u001b[0;34m(\u001b[0m\u001b[0mresp\u001b[0m\u001b[0;34m)\u001b[0m\u001b[0;34m\u001b[0m\u001b[0;34m\u001b[0m\u001b[0m\n\u001b[1;32m    256\u001b[0m             \u001b[0;32mif\u001b[0m \u001b[0mresp\u001b[0m\u001b[0;34m.\u001b[0m\u001b[0mstatus_code\u001b[0m \u001b[0;34m==\u001b[0m \u001b[0;36m401\u001b[0m\u001b[0;34m:\u001b[0m\u001b[0;34m\u001b[0m\u001b[0;34m\u001b[0m\u001b[0m\n\u001b[0;32m--> 257\u001b[0;31m                 \u001b[0;32mraise\u001b[0m \u001b[0mUnauthorized\u001b[0m\u001b[0;34m(\u001b[0m\u001b[0mresp\u001b[0m\u001b[0;34m)\u001b[0m\u001b[0;34m\u001b[0m\u001b[0;34m\u001b[0m\u001b[0m\n\u001b[0m\u001b[1;32m    258\u001b[0m             \u001b[0;32mif\u001b[0m \u001b[0mresp\u001b[0m\u001b[0;34m.\u001b[0m\u001b[0mstatus_code\u001b[0m \u001b[0;34m==\u001b[0m \u001b[0;36m403\u001b[0m\u001b[0;34m:\u001b[0m\u001b[0;34m\u001b[0m\u001b[0;34m\u001b[0m\u001b[0m\n\u001b[1;32m    259\u001b[0m                 \u001b[0;32mraise\u001b[0m \u001b[0mForbidden\u001b[0m\u001b[0;34m(\u001b[0m\u001b[0mresp\u001b[0m\u001b[0;34m)\u001b[0m\u001b[0;34m\u001b[0m\u001b[0;34m\u001b[0m\u001b[0m\n",
      "\u001b[0;31mUnauthorized\u001b[0m: 401 Unauthorized"
     ]
    }
   ],
   "source": [
    "auth = tweepy.OAuthHandler(consumer_key, consumer_secret)\n",
    "auth.set_access_token(access_token, access_token_secret)\n",
    "api = tweepy.API(auth)\n",
    "api.update_status('tweepy + oauth!')"
   ]
  },
  {
   "cell_type": "code",
   "execution_count": 11,
   "id": "f7367e53",
   "metadata": {},
   "outputs": [
    {
     "name": "stdout",
     "output_type": "stream",
     "text": [
      "1516514611331158019\n",
      "@tyromper king thought about getting up went right back in for more 💜\n",
      "2022-04-19 20:30:33+00:00\n",
      "None\n",
      "\n",
      "\n",
      "1515816182363865089\n",
      "If you could only recommend ONE resource to learn to code, what would it be?\n",
      "2022-04-17 22:15:15+00:00\n",
      "None\n",
      "\n",
      "\n",
      "1515501266524278784\n",
      "@LifeMathMoney consider finding better fitting tshirts. try outlier, veilance, haven.\n",
      "2022-04-17 01:23:53+00:00\n",
      "None\n",
      "\n",
      "\n",
      "1512076277859033090\n",
      "@JoeyDevlin_ don’t tell anyone where it is!\n",
      "2022-04-07 14:34:12+00:00\n",
      "None\n",
      "\n",
      "\n",
      "1509359073434963969\n",
      "Dirty little secret:\n",
      "\n",
      "If you are good at Excel you can learn Python.\n",
      "\n",
      "Put it on your resume and learn on the fly.\n",
      "2022-03-31 02:37:00+00:00\n",
      "None\n",
      "\n",
      "\n",
      "1509017612235071488\n",
      "@SyBurhanali I use jupyter notebooks and vscode, but post code snippets using carbon https://t.co/JZvlJPMuXo\n",
      "2022-03-30 04:00:09+00:00\n",
      "None\n",
      "\n",
      "\n",
      "1508976362937196544\n",
      "@alpharivelino look out for the claw, pau gasol!\n",
      "2022-03-30 01:16:15+00:00\n",
      "None\n",
      "\n",
      "\n",
      "1507298433916231681\n",
      "RT @abhi1thakur: Here is a simple t-h-r-e-a-d to show you how easy and fun it is to fine-tune almost any transformer model for sentiment cl…\n",
      "2022-03-25 10:08:45+00:00\n",
      "None\n",
      "\n",
      "\n",
      "1506452086635970560\n",
      "@JoeyDevlin_ phew was about to offer you $3k just to create a daily grocery/meal plan for me at those savings\n",
      "2022-03-23 02:05:40+00:00\n",
      "None\n",
      "\n",
      "\n",
      "1505273144717717505\n",
      "Day 25 | #100DaysOfCode \n",
      "\n",
      "Added a CNN to my model selection for text classification. Significant overfitting, need to look into pre-processing and hyperparameter selection.\n",
      "2022-03-19 20:00:58+00:00\n",
      "None\n",
      "\n",
      "\n"
     ]
    }
   ],
   "source": [
    "# client = tweepy.Client(consumer_key=consumer_key,\n",
    "#                        consumer_secret=consumer_secret,\n",
    "#                        access_token=access_token,\n",
    "#                        access_token_secret=access_token_secret\n",
    "#                       )\n",
    "\n",
    "client = tweepy.Client(bearer_token=bearer_token)\n",
    "\n",
    "id = 931276288282824705\n",
    "\n",
    "response = client.get_users_tweets(id=id, tweet_fields=['context_annotations','created_at','geo'])\n",
    "\n",
    "for tweet in response.data:\n",
    "    print(tweet.id)\n",
    "    print(tweet.text)\n",
    "    print(tweet.created_at)\n",
    "    print(tweet.geo)\n",
    "    print('\\n')"
   ]
  },
  {
   "cell_type": "code",
   "execution_count": 3,
   "id": "1e4b4aa4",
   "metadata": {},
   "outputs": [
    {
     "name": "stdout",
     "output_type": "stream",
     "text": [
      "User(_api=<tweepy.api.API object at 0x7fdd0cbfa5b0>, _json={'id': 931276288282824705, 'id_str': '931276288282824705', 'name': 'millhouse.py', 'screen_name': 'millhousecodes', 'location': '', 'description': 'I accelerated the learning process for challenging technical skills by optimizing my focus and productivity. I want to help you do the same.', 'url': None, 'entities': {'description': {'urls': []}}, 'protected': False, 'followers_count': 19, 'friends_count': 359, 'listed_count': 4, 'created_at': 'Thu Nov 16 21:42:24 +0000 2017', 'favourites_count': 201, 'utc_offset': None, 'time_zone': None, 'geo_enabled': False, 'verified': False, 'statuses_count': 134, 'lang': None, 'contributors_enabled': False, 'is_translator': False, 'is_translation_enabled': False, 'profile_background_color': 'F5F8FA', 'profile_background_image_url': None, 'profile_background_image_url_https': None, 'profile_background_tile': False, 'profile_image_url': 'http://pbs.twimg.com/profile_images/1503472309784375296/wP1yhJ8d_normal.jpg', 'profile_image_url_https': 'https://pbs.twimg.com/profile_images/1503472309784375296/wP1yhJ8d_normal.jpg', 'profile_banner_url': 'https://pbs.twimg.com/profile_banners/931276288282824705/1647297120', 'profile_link_color': '1DA1F2', 'profile_sidebar_border_color': 'C0DEED', 'profile_sidebar_fill_color': 'DDEEF6', 'profile_text_color': '333333', 'profile_use_background_image': True, 'has_extended_profile': False, 'default_profile': True, 'default_profile_image': False, 'following': False, 'follow_request_sent': False, 'notifications': False, 'translator_type': 'none', 'withheld_in_countries': []}, id=931276288282824705, id_str='931276288282824705', name='millhouse.py', screen_name='millhousecodes', location='', description='I accelerated the learning process for challenging technical skills by optimizing my focus and productivity. I want to help you do the same.', url=None, entities={'description': {'urls': []}}, protected=False, followers_count=19, friends_count=359, listed_count=4, created_at=datetime.datetime(2017, 11, 16, 21, 42, 24, tzinfo=datetime.timezone.utc), favourites_count=201, utc_offset=None, time_zone=None, geo_enabled=False, verified=False, statuses_count=134, lang=None, contributors_enabled=False, is_translator=False, is_translation_enabled=False, profile_background_color='F5F8FA', profile_background_image_url=None, profile_background_image_url_https=None, profile_background_tile=False, profile_image_url='http://pbs.twimg.com/profile_images/1503472309784375296/wP1yhJ8d_normal.jpg', profile_image_url_https='https://pbs.twimg.com/profile_images/1503472309784375296/wP1yhJ8d_normal.jpg', profile_banner_url='https://pbs.twimg.com/profile_banners/931276288282824705/1647297120', profile_link_color='1DA1F2', profile_sidebar_border_color='C0DEED', profile_sidebar_fill_color='DDEEF6', profile_text_color='333333', profile_use_background_image=True, has_extended_profile=False, default_profile=True, default_profile_image=False, following=False, follow_request_sent=False, notifications=False, translator_type='none', withheld_in_countries=[])\n",
      "@tyromper king thought about getting up went right back in for more 💜\n",
      "0\n",
      "\n",
      "\n",
      "User(_api=<tweepy.api.API object at 0x7fdd0cbfa5b0>, _json={'id': 931276288282824705, 'id_str': '931276288282824705', 'name': 'millhouse.py', 'screen_name': 'millhousecodes', 'location': '', 'description': 'I accelerated the learning process for challenging technical skills by optimizing my focus and productivity. I want to help you do the same.', 'url': None, 'entities': {'description': {'urls': []}}, 'protected': False, 'followers_count': 19, 'friends_count': 359, 'listed_count': 4, 'created_at': 'Thu Nov 16 21:42:24 +0000 2017', 'favourites_count': 201, 'utc_offset': None, 'time_zone': None, 'geo_enabled': False, 'verified': False, 'statuses_count': 134, 'lang': None, 'contributors_enabled': False, 'is_translator': False, 'is_translation_enabled': False, 'profile_background_color': 'F5F8FA', 'profile_background_image_url': None, 'profile_background_image_url_https': None, 'profile_background_tile': False, 'profile_image_url': 'http://pbs.twimg.com/profile_images/1503472309784375296/wP1yhJ8d_normal.jpg', 'profile_image_url_https': 'https://pbs.twimg.com/profile_images/1503472309784375296/wP1yhJ8d_normal.jpg', 'profile_banner_url': 'https://pbs.twimg.com/profile_banners/931276288282824705/1647297120', 'profile_link_color': '1DA1F2', 'profile_sidebar_border_color': 'C0DEED', 'profile_sidebar_fill_color': 'DDEEF6', 'profile_text_color': '333333', 'profile_use_background_image': True, 'has_extended_profile': False, 'default_profile': True, 'default_profile_image': False, 'following': False, 'follow_request_sent': False, 'notifications': False, 'translator_type': 'none', 'withheld_in_countries': []}, id=931276288282824705, id_str='931276288282824705', name='millhouse.py', screen_name='millhousecodes', location='', description='I accelerated the learning process for challenging technical skills by optimizing my focus and productivity. I want to help you do the same.', url=None, entities={'description': {'urls': []}}, protected=False, followers_count=19, friends_count=359, listed_count=4, created_at=datetime.datetime(2017, 11, 16, 21, 42, 24, tzinfo=datetime.timezone.utc), favourites_count=201, utc_offset=None, time_zone=None, geo_enabled=False, verified=False, statuses_count=134, lang=None, contributors_enabled=False, is_translator=False, is_translation_enabled=False, profile_background_color='F5F8FA', profile_background_image_url=None, profile_background_image_url_https=None, profile_background_tile=False, profile_image_url='http://pbs.twimg.com/profile_images/1503472309784375296/wP1yhJ8d_normal.jpg', profile_image_url_https='https://pbs.twimg.com/profile_images/1503472309784375296/wP1yhJ8d_normal.jpg', profile_banner_url='https://pbs.twimg.com/profile_banners/931276288282824705/1647297120', profile_link_color='1DA1F2', profile_sidebar_border_color='C0DEED', profile_sidebar_fill_color='DDEEF6', profile_text_color='333333', profile_use_background_image=True, has_extended_profile=False, default_profile=True, default_profile_image=False, following=False, follow_request_sent=False, notifications=False, translator_type='none', withheld_in_countries=[])\n",
      "If you could only recommend ONE resource to learn to code, what would it be?\n",
      "0\n",
      "\n",
      "\n",
      "User(_api=<tweepy.api.API object at 0x7fdd0cbfa5b0>, _json={'id': 931276288282824705, 'id_str': '931276288282824705', 'name': 'millhouse.py', 'screen_name': 'millhousecodes', 'location': '', 'description': 'I accelerated the learning process for challenging technical skills by optimizing my focus and productivity. I want to help you do the same.', 'url': None, 'entities': {'description': {'urls': []}}, 'protected': False, 'followers_count': 19, 'friends_count': 359, 'listed_count': 4, 'created_at': 'Thu Nov 16 21:42:24 +0000 2017', 'favourites_count': 201, 'utc_offset': None, 'time_zone': None, 'geo_enabled': False, 'verified': False, 'statuses_count': 134, 'lang': None, 'contributors_enabled': False, 'is_translator': False, 'is_translation_enabled': False, 'profile_background_color': 'F5F8FA', 'profile_background_image_url': None, 'profile_background_image_url_https': None, 'profile_background_tile': False, 'profile_image_url': 'http://pbs.twimg.com/profile_images/1503472309784375296/wP1yhJ8d_normal.jpg', 'profile_image_url_https': 'https://pbs.twimg.com/profile_images/1503472309784375296/wP1yhJ8d_normal.jpg', 'profile_banner_url': 'https://pbs.twimg.com/profile_banners/931276288282824705/1647297120', 'profile_link_color': '1DA1F2', 'profile_sidebar_border_color': 'C0DEED', 'profile_sidebar_fill_color': 'DDEEF6', 'profile_text_color': '333333', 'profile_use_background_image': True, 'has_extended_profile': False, 'default_profile': True, 'default_profile_image': False, 'following': False, 'follow_request_sent': False, 'notifications': False, 'translator_type': 'none', 'withheld_in_countries': []}, id=931276288282824705, id_str='931276288282824705', name='millhouse.py', screen_name='millhousecodes', location='', description='I accelerated the learning process for challenging technical skills by optimizing my focus and productivity. I want to help you do the same.', url=None, entities={'description': {'urls': []}}, protected=False, followers_count=19, friends_count=359, listed_count=4, created_at=datetime.datetime(2017, 11, 16, 21, 42, 24, tzinfo=datetime.timezone.utc), favourites_count=201, utc_offset=None, time_zone=None, geo_enabled=False, verified=False, statuses_count=134, lang=None, contributors_enabled=False, is_translator=False, is_translation_enabled=False, profile_background_color='F5F8FA', profile_background_image_url=None, profile_background_image_url_https=None, profile_background_tile=False, profile_image_url='http://pbs.twimg.com/profile_images/1503472309784375296/wP1yhJ8d_normal.jpg', profile_image_url_https='https://pbs.twimg.com/profile_images/1503472309784375296/wP1yhJ8d_normal.jpg', profile_banner_url='https://pbs.twimg.com/profile_banners/931276288282824705/1647297120', profile_link_color='1DA1F2', profile_sidebar_border_color='C0DEED', profile_sidebar_fill_color='DDEEF6', profile_text_color='333333', profile_use_background_image=True, has_extended_profile=False, default_profile=True, default_profile_image=False, following=False, follow_request_sent=False, notifications=False, translator_type='none', withheld_in_countries=[])\n",
      "@LifeMathMoney consider finding better fitting tshirts. try outlier, veilance, haven.\n",
      "0\n",
      "\n",
      "\n",
      "User(_api=<tweepy.api.API object at 0x7fdd0cbfa5b0>, _json={'id': 931276288282824705, 'id_str': '931276288282824705', 'name': 'millhouse.py', 'screen_name': 'millhousecodes', 'location': '', 'description': 'I accelerated the learning process for challenging technical skills by optimizing my focus and productivity. I want to help you do the same.', 'url': None, 'entities': {'description': {'urls': []}}, 'protected': False, 'followers_count': 19, 'friends_count': 359, 'listed_count': 4, 'created_at': 'Thu Nov 16 21:42:24 +0000 2017', 'favourites_count': 201, 'utc_offset': None, 'time_zone': None, 'geo_enabled': False, 'verified': False, 'statuses_count': 134, 'lang': None, 'contributors_enabled': False, 'is_translator': False, 'is_translation_enabled': False, 'profile_background_color': 'F5F8FA', 'profile_background_image_url': None, 'profile_background_image_url_https': None, 'profile_background_tile': False, 'profile_image_url': 'http://pbs.twimg.com/profile_images/1503472309784375296/wP1yhJ8d_normal.jpg', 'profile_image_url_https': 'https://pbs.twimg.com/profile_images/1503472309784375296/wP1yhJ8d_normal.jpg', 'profile_banner_url': 'https://pbs.twimg.com/profile_banners/931276288282824705/1647297120', 'profile_link_color': '1DA1F2', 'profile_sidebar_border_color': 'C0DEED', 'profile_sidebar_fill_color': 'DDEEF6', 'profile_text_color': '333333', 'profile_use_background_image': True, 'has_extended_profile': False, 'default_profile': True, 'default_profile_image': False, 'following': False, 'follow_request_sent': False, 'notifications': False, 'translator_type': 'none', 'withheld_in_countries': []}, id=931276288282824705, id_str='931276288282824705', name='millhouse.py', screen_name='millhousecodes', location='', description='I accelerated the learning process for challenging technical skills by optimizing my focus and productivity. I want to help you do the same.', url=None, entities={'description': {'urls': []}}, protected=False, followers_count=19, friends_count=359, listed_count=4, created_at=datetime.datetime(2017, 11, 16, 21, 42, 24, tzinfo=datetime.timezone.utc), favourites_count=201, utc_offset=None, time_zone=None, geo_enabled=False, verified=False, statuses_count=134, lang=None, contributors_enabled=False, is_translator=False, is_translation_enabled=False, profile_background_color='F5F8FA', profile_background_image_url=None, profile_background_image_url_https=None, profile_background_tile=False, profile_image_url='http://pbs.twimg.com/profile_images/1503472309784375296/wP1yhJ8d_normal.jpg', profile_image_url_https='https://pbs.twimg.com/profile_images/1503472309784375296/wP1yhJ8d_normal.jpg', profile_banner_url='https://pbs.twimg.com/profile_banners/931276288282824705/1647297120', profile_link_color='1DA1F2', profile_sidebar_border_color='C0DEED', profile_sidebar_fill_color='DDEEF6', profile_text_color='333333', profile_use_background_image=True, has_extended_profile=False, default_profile=True, default_profile_image=False, following=False, follow_request_sent=False, notifications=False, translator_type='none', withheld_in_countries=[])\n",
      "@JoeyDevlin_ don’t tell anyone where it is!\n",
      "0\n",
      "\n",
      "\n",
      "User(_api=<tweepy.api.API object at 0x7fdd0cbfa5b0>, _json={'id': 931276288282824705, 'id_str': '931276288282824705', 'name': 'millhouse.py', 'screen_name': 'millhousecodes', 'location': '', 'description': 'I accelerated the learning process for challenging technical skills by optimizing my focus and productivity. I want to help you do the same.', 'url': None, 'entities': {'description': {'urls': []}}, 'protected': False, 'followers_count': 19, 'friends_count': 359, 'listed_count': 4, 'created_at': 'Thu Nov 16 21:42:24 +0000 2017', 'favourites_count': 201, 'utc_offset': None, 'time_zone': None, 'geo_enabled': False, 'verified': False, 'statuses_count': 134, 'lang': None, 'contributors_enabled': False, 'is_translator': False, 'is_translation_enabled': False, 'profile_background_color': 'F5F8FA', 'profile_background_image_url': None, 'profile_background_image_url_https': None, 'profile_background_tile': False, 'profile_image_url': 'http://pbs.twimg.com/profile_images/1503472309784375296/wP1yhJ8d_normal.jpg', 'profile_image_url_https': 'https://pbs.twimg.com/profile_images/1503472309784375296/wP1yhJ8d_normal.jpg', 'profile_banner_url': 'https://pbs.twimg.com/profile_banners/931276288282824705/1647297120', 'profile_link_color': '1DA1F2', 'profile_sidebar_border_color': 'C0DEED', 'profile_sidebar_fill_color': 'DDEEF6', 'profile_text_color': '333333', 'profile_use_background_image': True, 'has_extended_profile': False, 'default_profile': True, 'default_profile_image': False, 'following': False, 'follow_request_sent': False, 'notifications': False, 'translator_type': 'none', 'withheld_in_countries': []}, id=931276288282824705, id_str='931276288282824705', name='millhouse.py', screen_name='millhousecodes', location='', description='I accelerated the learning process for challenging technical skills by optimizing my focus and productivity. I want to help you do the same.', url=None, entities={'description': {'urls': []}}, protected=False, followers_count=19, friends_count=359, listed_count=4, created_at=datetime.datetime(2017, 11, 16, 21, 42, 24, tzinfo=datetime.timezone.utc), favourites_count=201, utc_offset=None, time_zone=None, geo_enabled=False, verified=False, statuses_count=134, lang=None, contributors_enabled=False, is_translator=False, is_translation_enabled=False, profile_background_color='F5F8FA', profile_background_image_url=None, profile_background_image_url_https=None, profile_background_tile=False, profile_image_url='http://pbs.twimg.com/profile_images/1503472309784375296/wP1yhJ8d_normal.jpg', profile_image_url_https='https://pbs.twimg.com/profile_images/1503472309784375296/wP1yhJ8d_normal.jpg', profile_banner_url='https://pbs.twimg.com/profile_banners/931276288282824705/1647297120', profile_link_color='1DA1F2', profile_sidebar_border_color='C0DEED', profile_sidebar_fill_color='DDEEF6', profile_text_color='333333', profile_use_background_image=True, has_extended_profile=False, default_profile=True, default_profile_image=False, following=False, follow_request_sent=False, notifications=False, translator_type='none', withheld_in_countries=[])\n",
      "Dirty little secret:\n",
      "\n",
      "If you are good at Excel you can learn Python.\n",
      "\n",
      "Put it on your resume and learn on the fly.\n",
      "0\n",
      "\n",
      "\n",
      "User(_api=<tweepy.api.API object at 0x7fdd0cbfa5b0>, _json={'id': 931276288282824705, 'id_str': '931276288282824705', 'name': 'millhouse.py', 'screen_name': 'millhousecodes', 'location': '', 'description': 'I accelerated the learning process for challenging technical skills by optimizing my focus and productivity. I want to help you do the same.', 'url': None, 'entities': {'description': {'urls': []}}, 'protected': False, 'followers_count': 19, 'friends_count': 359, 'listed_count': 4, 'created_at': 'Thu Nov 16 21:42:24 +0000 2017', 'favourites_count': 201, 'utc_offset': None, 'time_zone': None, 'geo_enabled': False, 'verified': False, 'statuses_count': 134, 'lang': None, 'contributors_enabled': False, 'is_translator': False, 'is_translation_enabled': False, 'profile_background_color': 'F5F8FA', 'profile_background_image_url': None, 'profile_background_image_url_https': None, 'profile_background_tile': False, 'profile_image_url': 'http://pbs.twimg.com/profile_images/1503472309784375296/wP1yhJ8d_normal.jpg', 'profile_image_url_https': 'https://pbs.twimg.com/profile_images/1503472309784375296/wP1yhJ8d_normal.jpg', 'profile_banner_url': 'https://pbs.twimg.com/profile_banners/931276288282824705/1647297120', 'profile_link_color': '1DA1F2', 'profile_sidebar_border_color': 'C0DEED', 'profile_sidebar_fill_color': 'DDEEF6', 'profile_text_color': '333333', 'profile_use_background_image': True, 'has_extended_profile': False, 'default_profile': True, 'default_profile_image': False, 'following': False, 'follow_request_sent': False, 'notifications': False, 'translator_type': 'none', 'withheld_in_countries': []}, id=931276288282824705, id_str='931276288282824705', name='millhouse.py', screen_name='millhousecodes', location='', description='I accelerated the learning process for challenging technical skills by optimizing my focus and productivity. I want to help you do the same.', url=None, entities={'description': {'urls': []}}, protected=False, followers_count=19, friends_count=359, listed_count=4, created_at=datetime.datetime(2017, 11, 16, 21, 42, 24, tzinfo=datetime.timezone.utc), favourites_count=201, utc_offset=None, time_zone=None, geo_enabled=False, verified=False, statuses_count=134, lang=None, contributors_enabled=False, is_translator=False, is_translation_enabled=False, profile_background_color='F5F8FA', profile_background_image_url=None, profile_background_image_url_https=None, profile_background_tile=False, profile_image_url='http://pbs.twimg.com/profile_images/1503472309784375296/wP1yhJ8d_normal.jpg', profile_image_url_https='https://pbs.twimg.com/profile_images/1503472309784375296/wP1yhJ8d_normal.jpg', profile_banner_url='https://pbs.twimg.com/profile_banners/931276288282824705/1647297120', profile_link_color='1DA1F2', profile_sidebar_border_color='C0DEED', profile_sidebar_fill_color='DDEEF6', profile_text_color='333333', profile_use_background_image=True, has_extended_profile=False, default_profile=True, default_profile_image=False, following=False, follow_request_sent=False, notifications=False, translator_type='none', withheld_in_countries=[])\n",
      "@SyBurhanali I use jupyter notebooks and vscode, but post code snippets using carbon https://t.co/JZvlJPMuXo\n",
      "0\n",
      "\n",
      "\n",
      "User(_api=<tweepy.api.API object at 0x7fdd0cbfa5b0>, _json={'id': 931276288282824705, 'id_str': '931276288282824705', 'name': 'millhouse.py', 'screen_name': 'millhousecodes', 'location': '', 'description': 'I accelerated the learning process for challenging technical skills by optimizing my focus and productivity. I want to help you do the same.', 'url': None, 'entities': {'description': {'urls': []}}, 'protected': False, 'followers_count': 19, 'friends_count': 359, 'listed_count': 4, 'created_at': 'Thu Nov 16 21:42:24 +0000 2017', 'favourites_count': 201, 'utc_offset': None, 'time_zone': None, 'geo_enabled': False, 'verified': False, 'statuses_count': 134, 'lang': None, 'contributors_enabled': False, 'is_translator': False, 'is_translation_enabled': False, 'profile_background_color': 'F5F8FA', 'profile_background_image_url': None, 'profile_background_image_url_https': None, 'profile_background_tile': False, 'profile_image_url': 'http://pbs.twimg.com/profile_images/1503472309784375296/wP1yhJ8d_normal.jpg', 'profile_image_url_https': 'https://pbs.twimg.com/profile_images/1503472309784375296/wP1yhJ8d_normal.jpg', 'profile_banner_url': 'https://pbs.twimg.com/profile_banners/931276288282824705/1647297120', 'profile_link_color': '1DA1F2', 'profile_sidebar_border_color': 'C0DEED', 'profile_sidebar_fill_color': 'DDEEF6', 'profile_text_color': '333333', 'profile_use_background_image': True, 'has_extended_profile': False, 'default_profile': True, 'default_profile_image': False, 'following': False, 'follow_request_sent': False, 'notifications': False, 'translator_type': 'none', 'withheld_in_countries': []}, id=931276288282824705, id_str='931276288282824705', name='millhouse.py', screen_name='millhousecodes', location='', description='I accelerated the learning process for challenging technical skills by optimizing my focus and productivity. I want to help you do the same.', url=None, entities={'description': {'urls': []}}, protected=False, followers_count=19, friends_count=359, listed_count=4, created_at=datetime.datetime(2017, 11, 16, 21, 42, 24, tzinfo=datetime.timezone.utc), favourites_count=201, utc_offset=None, time_zone=None, geo_enabled=False, verified=False, statuses_count=134, lang=None, contributors_enabled=False, is_translator=False, is_translation_enabled=False, profile_background_color='F5F8FA', profile_background_image_url=None, profile_background_image_url_https=None, profile_background_tile=False, profile_image_url='http://pbs.twimg.com/profile_images/1503472309784375296/wP1yhJ8d_normal.jpg', profile_image_url_https='https://pbs.twimg.com/profile_images/1503472309784375296/wP1yhJ8d_normal.jpg', profile_banner_url='https://pbs.twimg.com/profile_banners/931276288282824705/1647297120', profile_link_color='1DA1F2', profile_sidebar_border_color='C0DEED', profile_sidebar_fill_color='DDEEF6', profile_text_color='333333', profile_use_background_image=True, has_extended_profile=False, default_profile=True, default_profile_image=False, following=False, follow_request_sent=False, notifications=False, translator_type='none', withheld_in_countries=[])\n",
      "@alpharivelino look out for the claw, pau gasol!\n",
      "0\n",
      "\n",
      "\n",
      "User(_api=<tweepy.api.API object at 0x7fdd0cbfa5b0>, _json={'id': 931276288282824705, 'id_str': '931276288282824705', 'name': 'millhouse.py', 'screen_name': 'millhousecodes', 'location': '', 'description': 'I accelerated the learning process for challenging technical skills by optimizing my focus and productivity. I want to help you do the same.', 'url': None, 'entities': {'description': {'urls': []}}, 'protected': False, 'followers_count': 19, 'friends_count': 359, 'listed_count': 4, 'created_at': 'Thu Nov 16 21:42:24 +0000 2017', 'favourites_count': 201, 'utc_offset': None, 'time_zone': None, 'geo_enabled': False, 'verified': False, 'statuses_count': 134, 'lang': None, 'contributors_enabled': False, 'is_translator': False, 'is_translation_enabled': False, 'profile_background_color': 'F5F8FA', 'profile_background_image_url': None, 'profile_background_image_url_https': None, 'profile_background_tile': False, 'profile_image_url': 'http://pbs.twimg.com/profile_images/1503472309784375296/wP1yhJ8d_normal.jpg', 'profile_image_url_https': 'https://pbs.twimg.com/profile_images/1503472309784375296/wP1yhJ8d_normal.jpg', 'profile_banner_url': 'https://pbs.twimg.com/profile_banners/931276288282824705/1647297120', 'profile_link_color': '1DA1F2', 'profile_sidebar_border_color': 'C0DEED', 'profile_sidebar_fill_color': 'DDEEF6', 'profile_text_color': '333333', 'profile_use_background_image': True, 'has_extended_profile': False, 'default_profile': True, 'default_profile_image': False, 'following': False, 'follow_request_sent': False, 'notifications': False, 'translator_type': 'none', 'withheld_in_countries': []}, id=931276288282824705, id_str='931276288282824705', name='millhouse.py', screen_name='millhousecodes', location='', description='I accelerated the learning process for challenging technical skills by optimizing my focus and productivity. I want to help you do the same.', url=None, entities={'description': {'urls': []}}, protected=False, followers_count=19, friends_count=359, listed_count=4, created_at=datetime.datetime(2017, 11, 16, 21, 42, 24, tzinfo=datetime.timezone.utc), favourites_count=201, utc_offset=None, time_zone=None, geo_enabled=False, verified=False, statuses_count=134, lang=None, contributors_enabled=False, is_translator=False, is_translation_enabled=False, profile_background_color='F5F8FA', profile_background_image_url=None, profile_background_image_url_https=None, profile_background_tile=False, profile_image_url='http://pbs.twimg.com/profile_images/1503472309784375296/wP1yhJ8d_normal.jpg', profile_image_url_https='https://pbs.twimg.com/profile_images/1503472309784375296/wP1yhJ8d_normal.jpg', profile_banner_url='https://pbs.twimg.com/profile_banners/931276288282824705/1647297120', profile_link_color='1DA1F2', profile_sidebar_border_color='C0DEED', profile_sidebar_fill_color='DDEEF6', profile_text_color='333333', profile_use_background_image=True, has_extended_profile=False, default_profile=True, default_profile_image=False, following=False, follow_request_sent=False, notifications=False, translator_type='none', withheld_in_countries=[])\n",
      "RT @abhi1thakur: Here is a simple t-h-r-e-a-d to show you how easy and fun it is to fine-tune almost any transformer model for sentiment cl…\n",
      "21\n",
      "\n",
      "\n",
      "User(_api=<tweepy.api.API object at 0x7fdd0cbfa5b0>, _json={'id': 931276288282824705, 'id_str': '931276288282824705', 'name': 'millhouse.py', 'screen_name': 'millhousecodes', 'location': '', 'description': 'I accelerated the learning process for challenging technical skills by optimizing my focus and productivity. I want to help you do the same.', 'url': None, 'entities': {'description': {'urls': []}}, 'protected': False, 'followers_count': 19, 'friends_count': 359, 'listed_count': 4, 'created_at': 'Thu Nov 16 21:42:24 +0000 2017', 'favourites_count': 201, 'utc_offset': None, 'time_zone': None, 'geo_enabled': False, 'verified': False, 'statuses_count': 134, 'lang': None, 'contributors_enabled': False, 'is_translator': False, 'is_translation_enabled': False, 'profile_background_color': 'F5F8FA', 'profile_background_image_url': None, 'profile_background_image_url_https': None, 'profile_background_tile': False, 'profile_image_url': 'http://pbs.twimg.com/profile_images/1503472309784375296/wP1yhJ8d_normal.jpg', 'profile_image_url_https': 'https://pbs.twimg.com/profile_images/1503472309784375296/wP1yhJ8d_normal.jpg', 'profile_banner_url': 'https://pbs.twimg.com/profile_banners/931276288282824705/1647297120', 'profile_link_color': '1DA1F2', 'profile_sidebar_border_color': 'C0DEED', 'profile_sidebar_fill_color': 'DDEEF6', 'profile_text_color': '333333', 'profile_use_background_image': True, 'has_extended_profile': False, 'default_profile': True, 'default_profile_image': False, 'following': False, 'follow_request_sent': False, 'notifications': False, 'translator_type': 'none', 'withheld_in_countries': []}, id=931276288282824705, id_str='931276288282824705', name='millhouse.py', screen_name='millhousecodes', location='', description='I accelerated the learning process for challenging technical skills by optimizing my focus and productivity. I want to help you do the same.', url=None, entities={'description': {'urls': []}}, protected=False, followers_count=19, friends_count=359, listed_count=4, created_at=datetime.datetime(2017, 11, 16, 21, 42, 24, tzinfo=datetime.timezone.utc), favourites_count=201, utc_offset=None, time_zone=None, geo_enabled=False, verified=False, statuses_count=134, lang=None, contributors_enabled=False, is_translator=False, is_translation_enabled=False, profile_background_color='F5F8FA', profile_background_image_url=None, profile_background_image_url_https=None, profile_background_tile=False, profile_image_url='http://pbs.twimg.com/profile_images/1503472309784375296/wP1yhJ8d_normal.jpg', profile_image_url_https='https://pbs.twimg.com/profile_images/1503472309784375296/wP1yhJ8d_normal.jpg', profile_banner_url='https://pbs.twimg.com/profile_banners/931276288282824705/1647297120', profile_link_color='1DA1F2', profile_sidebar_border_color='C0DEED', profile_sidebar_fill_color='DDEEF6', profile_text_color='333333', profile_use_background_image=True, has_extended_profile=False, default_profile=True, default_profile_image=False, following=False, follow_request_sent=False, notifications=False, translator_type='none', withheld_in_countries=[])\n",
      "@JoeyDevlin_ phew was about to offer you $3k just to create a daily grocery/meal plan for me at those savings\n",
      "0\n",
      "\n",
      "\n",
      "User(_api=<tweepy.api.API object at 0x7fdd0cbfa5b0>, _json={'id': 931276288282824705, 'id_str': '931276288282824705', 'name': 'millhouse.py', 'screen_name': 'millhousecodes', 'location': '', 'description': 'I accelerated the learning process for challenging technical skills by optimizing my focus and productivity. I want to help you do the same.', 'url': None, 'entities': {'description': {'urls': []}}, 'protected': False, 'followers_count': 19, 'friends_count': 359, 'listed_count': 4, 'created_at': 'Thu Nov 16 21:42:24 +0000 2017', 'favourites_count': 201, 'utc_offset': None, 'time_zone': None, 'geo_enabled': False, 'verified': False, 'statuses_count': 134, 'lang': None, 'contributors_enabled': False, 'is_translator': False, 'is_translation_enabled': False, 'profile_background_color': 'F5F8FA', 'profile_background_image_url': None, 'profile_background_image_url_https': None, 'profile_background_tile': False, 'profile_image_url': 'http://pbs.twimg.com/profile_images/1503472309784375296/wP1yhJ8d_normal.jpg', 'profile_image_url_https': 'https://pbs.twimg.com/profile_images/1503472309784375296/wP1yhJ8d_normal.jpg', 'profile_banner_url': 'https://pbs.twimg.com/profile_banners/931276288282824705/1647297120', 'profile_link_color': '1DA1F2', 'profile_sidebar_border_color': 'C0DEED', 'profile_sidebar_fill_color': 'DDEEF6', 'profile_text_color': '333333', 'profile_use_background_image': True, 'has_extended_profile': False, 'default_profile': True, 'default_profile_image': False, 'following': False, 'follow_request_sent': False, 'notifications': False, 'translator_type': 'none', 'withheld_in_countries': []}, id=931276288282824705, id_str='931276288282824705', name='millhouse.py', screen_name='millhousecodes', location='', description='I accelerated the learning process for challenging technical skills by optimizing my focus and productivity. I want to help you do the same.', url=None, entities={'description': {'urls': []}}, protected=False, followers_count=19, friends_count=359, listed_count=4, created_at=datetime.datetime(2017, 11, 16, 21, 42, 24, tzinfo=datetime.timezone.utc), favourites_count=201, utc_offset=None, time_zone=None, geo_enabled=False, verified=False, statuses_count=134, lang=None, contributors_enabled=False, is_translator=False, is_translation_enabled=False, profile_background_color='F5F8FA', profile_background_image_url=None, profile_background_image_url_https=None, profile_background_tile=False, profile_image_url='http://pbs.twimg.com/profile_images/1503472309784375296/wP1yhJ8d_normal.jpg', profile_image_url_https='https://pbs.twimg.com/profile_images/1503472309784375296/wP1yhJ8d_normal.jpg', profile_banner_url='https://pbs.twimg.com/profile_banners/931276288282824705/1647297120', profile_link_color='1DA1F2', profile_sidebar_border_color='C0DEED', profile_sidebar_fill_color='DDEEF6', profile_text_color='333333', profile_use_background_image=True, has_extended_profile=False, default_profile=True, default_profile_image=False, following=False, follow_request_sent=False, notifications=False, translator_type='none', withheld_in_countries=[])\n",
      "Day 25 | #100DaysOfCode \n",
      "\n",
      "Added a CNN to my model selection for text classification. Significant overfitting, need to look into pre-processing and hyperparameter selection.\n",
      "5\n",
      "\n",
      "\n"
     ]
    }
   ],
   "source": [
    "\n",
    "cursor = tweepy.Cursor(api.user_timeline, tweet_mode='extended').items(10)\n",
    "for i in cursor:\n",
    "    print(i.author)\n",
    "    print(i.full_text)\n",
    "    print(i.retweet_count)\n",
    "    print('\\n')"
   ]
  },
  {
   "cell_type": "code",
   "execution_count": 5,
   "id": "f7c1fc80",
   "metadata": {},
   "outputs": [
    {
     "name": "stdout",
     "output_type": "stream",
     "text": [
      "@tyromper king thought about getting up went right back in for more 💜\n",
      "If you could only recommend ONE resource to learn to code, what would it be?\n",
      "@LifeMathMoney consider finding better fitting tshirts. try outlier, veilance, haven.\n",
      "@JoeyDevlin_ don’t tell anyone where it is!\n",
      "Dirty little secret:\n",
      "\n",
      "If you are good at Excel you can learn Python.\n",
      "\n",
      "Put it on your resume and learn on the fly.\n",
      "@SyBurhanali I use jupyter notebooks and vscode, but post code snippets using carbon https://t.co/JZvlJPMuXo\n",
      "@alpharivelino look out for the claw, pau gasol!\n",
      "RT @abhi1thakur: Here is a simple t-h-r-e-a-d to show you how easy and fun it is to fine-tune almost any transformer model for sentiment cl…\n",
      "@JoeyDevlin_ phew was about to offer you $3k just to create a daily grocery/meal plan for me at those savings\n",
      "Day 25 | #100DaysOfCode \n",
      "\n",
      "Added a CNN to my model selection for text classification. Significant overfitting, need… https://t.co/W8IdJSOJpj\n",
      "RT @B2BGrowthJeremy: Modern society murders your testosterone levels\n",
      "\n",
      "I said screw that - increased my T levels from 287 ng/dl to 980 ng/dl…\n",
      "@TrinaNugget you’re striking a chord with the insanity takes tonight\n",
      "@PrasoonPratham any tips for accelerating the process?\n",
      "@marlene_zw identifying strongly with the name of the theme🤓😎\n",
      "Confession:\n",
      "\n",
      "When red pill twitter says to not use vegetable or seed oils, I am not sure if olive oil counts.\n",
      "\n",
      "Please advise.\n",
      "@tyromper that is top 0.1% shoulder shimmy talent get him in gifted &amp; talented!\n",
      "Day 24 | #100DaysOfCode \n",
      "\n",
      "Using Colab's GPU improved BERT model training by 25x.\n",
      "\n",
      "Assuming it wouldn't have crashed… https://t.co/qJtPyQJ3Ab\n",
      "@LiamKircher i’d do both until the business doubled or i added a 2nd income source at ~100k. but i love to work\n",
      "Day 23 | #100DaysOfCode \n",
      "\n",
      "Trying out BERT from @huggingface. Think I'll need to spin up a Google Colab notebook to… https://t.co/KWAX2V3dYr\n",
      "Day 22 | #100DaysOfCode \n",
      "\n",
      "Initial model was not good...\n",
      "\n",
      "But the pipeline is set up.\n",
      "\n",
      "Time to iterate and experimen… https://t.co/gKPPjHDYGU\n"
     ]
    }
   ],
   "source": [
    "public_tweets = api.user_timeline()\n",
    "for tweet in public_tweets:\n",
    "        print(tweet.text)"
   ]
  },
  {
   "cell_type": "code",
   "execution_count": null,
   "id": "0b0d896f",
   "metadata": {},
   "outputs": [],
   "source": []
  }
 ],
 "metadata": {
  "kernelspec": {
   "display_name": "Python 3 (ipykernel)",
   "language": "python",
   "name": "python3"
  },
  "language_info": {
   "codemirror_mode": {
    "name": "ipython",
    "version": 3
   },
   "file_extension": ".py",
   "mimetype": "text/x-python",
   "name": "python",
   "nbconvert_exporter": "python",
   "pygments_lexer": "ipython3",
   "version": "3.8.8"
  }
 },
 "nbformat": 4,
 "nbformat_minor": 5
}
